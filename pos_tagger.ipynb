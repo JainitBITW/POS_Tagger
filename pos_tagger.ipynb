{
 "cells": [
  {
   "cell_type": "code",
   "execution_count": 3,
   "metadata": {},
   "outputs": [],
   "source": [
    "#importing required libraries \n",
    "import torch \n",
    "import torch.nn as nn \n",
    "import torch.nn.functional as F\n",
    "from torch import optim \n",
    "from conllu import parse\n",
    "import numpy as np\n"
   ]
  },
  {
   "cell_type": "code",
   "execution_count": 4,
   "metadata": {},
   "outputs": [],
   "source": [
    "train_file = 'en_atis-ud-train.conllu'\n",
    "test_file = 'en_atis-ud-test.conllu'\n",
    "dev_file = 'en_atis-ud-dev.conllu'\n"
   ]
  },
  {
   "cell_type": "code",
   "execution_count": 5,
   "metadata": {},
   "outputs": [],
   "source": [
    "raw_datasets = {}\n",
    "raw_datasets['train'] = parse(open(train_file, 'r').read())\n",
    "raw_datasets['dev'] = parse(open(dev_file, 'r').read())\n",
    "raw_datasets['test'] = parse(open(test_file, 'r').read())\n",
    "datasets = {}\n",
    "datasets['test'] = []\n",
    "datasets['train'] = []\n",
    "\n"
   ]
  },
  {
   "cell_type": "code",
   "execution_count": 6,
   "metadata": {},
   "outputs": [
    {
     "ename": "KeyError",
     "evalue": "'dev'",
     "output_type": "error",
     "traceback": [
      "\u001b[0;31m---------------------------------------------------------------------------\u001b[0m",
      "\u001b[0;31mKeyError\u001b[0m                                  Traceback (most recent call last)",
      "Cell \u001b[0;32mIn[6], line 32\u001b[0m\n\u001b[1;32m     30\u001b[0m         sentence_list[\u001b[39m0\u001b[39m]\u001b[39m.\u001b[39mappend(word2idx[token[\u001b[39m'\u001b[39m\u001b[39mform\u001b[39m\u001b[39m'\u001b[39m]])\n\u001b[1;32m     31\u001b[0m         sentence_list[\u001b[39m1\u001b[39m]\u001b[39m.\u001b[39mappend(tag2idx[token[\u001b[39m'\u001b[39m\u001b[39mupos\u001b[39m\u001b[39m'\u001b[39m]])\n\u001b[0;32m---> 32\u001b[0m     datasets[\u001b[39m'\u001b[39;49m\u001b[39mdev\u001b[39;49m\u001b[39m'\u001b[39;49m]\u001b[39m.\u001b[39mappend(sentence_list)\n\u001b[1;32m     34\u001b[0m \u001b[39mfor\u001b[39;00m sentence \u001b[39min\u001b[39;00m raw_datasets[\u001b[39m'\u001b[39m\u001b[39mtest\u001b[39m\u001b[39m'\u001b[39m]:\n\u001b[1;32m     35\u001b[0m     sentence_list \u001b[39m=\u001b[39m[[],[]]\n",
      "\u001b[0;31mKeyError\u001b[0m: 'dev'"
     ]
    }
   ],
   "source": [
    "\n",
    "word2idx = {}\n",
    "tag2idx = {}\n",
    "train_loader = []\n",
    "dev_loader = []\n",
    "test_loader = []\n",
    "\n",
    "\n",
    "for sentence in raw_datasets['train']:\n",
    "    sentence_list =[[],[]]\n",
    "    for token in sentence:  \n",
    "        if token['upostag'] not in tag2idx:\n",
    "            tag2idx.update({token['upostag']: len(tag2idx)})\n",
    "        if token['form'] not in word2idx:\n",
    "            word2idx.update({token['form']: len(word2idx)})\n",
    "        sentence_list[0].append(word2idx[token['form']])\n",
    "        sentence_list[1].append(tag2idx[token['upos']])\n",
    "    datasets['train'].append(sentence_list)\n",
    "\n",
    "for sentence in datasets['train']:\n",
    "    train_loader.append((torch.tensor(sentence[0], dtype=torch.long), torch.tensor(sentence[1], dtype=torch.long)))\n",
    "\n",
    "\n",
    "for sentence in raw_datasets['dev']:\n",
    "    sentence_list =[[],[]]\n",
    "    for token in sentence:  \n",
    "        if token['upostag'] not in tag2idx:\n",
    "            tag2idx.update({token['upostag']: len(tag2idx)})\n",
    "        if token['form'] not in word2idx:\n",
    "            word2idx.update({token['form']: len(word2idx)})\n",
    "        sentence_list[0].append(word2idx[token['form']])\n",
    "        sentence_list[1].append(tag2idx[token['upos']])\n",
    "    datasets['dev'].append(sentence_list)\n",
    "\n",
    "for sentence in raw_datasets['test']:\n",
    "    sentence_list =[[],[]]\n",
    "    for token in sentence:  \n",
    "        if token['upostag'] not in tag2idx:\n",
    "            tag2idx.update({token['upostag']: len(tag2idx)})\n",
    "        if token['form'] not in word2idx:\n",
    "            word2idx.update({token['form']: len(word2idx)})\n",
    "        sentence_list[0].append(word2idx[token['form']])\n",
    "        sentence_list[1].append(tag2idx[token['upos']])\n",
    "    datasets['test'].append(sentence_list)\n",
    "\n",
    "for sentence in datasets['dev']:\n",
    "    dev_loader.append((torch.tensor(sentence[0], dtype=torch.long), torch.tensor(sentence[1], dtype=torch.long)))\n",
    "\n",
    "for sentence in datasets['test']:\n",
    "    test_loader.append((torch.tensor(sentence[0], dtype=torch.long), torch.tensor(sentence[1], dtype=torch.long)))\n",
    "\n",
    "\n"
   ]
  },
  {
   "cell_type": "code",
   "execution_count": 7,
   "metadata": {},
   "outputs": [],
   "source": [
    "\n",
    "class POS_tagger(nn.Module):\n",
    "    def __init__(self, embedding_dim , hidden_dim , vocab_size , tagset_size ):\n",
    "        super(POS_tagger, self).__init__()\n",
    "        self.hidden_dim = hidden_dim\n",
    "        self.word_embeddings = nn.Embedding(vocab_size, embedding_dim)\n",
    "        self.lstm = nn.LSTM(embedding_dim, hidden_dim)\n",
    "        self.hidden2tag = nn.Linear(hidden_dim, tagset_size)\n",
    "       \n",
    "    def forward(self, sentence):\n",
    "        embeds = self.word_embeddings(sentence)\n",
    "        lstm_out, _ = self.lstm(embeds.view(len(sentence), 1, -1))\n",
    "        tag_space = self.hidden2tag(lstm_out.view(len(sentence), -1))\n",
    "        tag_scores = F.log_softmax(tag_space, dim=1)\n",
    "        return tag_scores\n",
    "        \n"
   ]
  },
  {
   "cell_type": "code",
   "execution_count": 8,
   "metadata": {},
   "outputs": [],
   "source": [
    "# mode1 = nn.Sequential(nn.Embedding(len(word2idx), 100), nn.LSTM(100, 100), nn.Linear(100, len(tag2idx)), nn.LogSoftmax(dim=1))\n",
    "model = POS_tagger(100, 100, len(word2idx), len(tag2idx))\n",
    "criterion = nn.NLLLoss()\n",
    "optimizer = optim.Adamax(model.parameters(), lr=0.001)\n",
    "\n"
   ]
  },
  {
   "cell_type": "code",
   "execution_count": 9,
   "metadata": {},
   "outputs": [
    {
     "ename": "KeyboardInterrupt",
     "evalue": "",
     "output_type": "error",
     "traceback": [
      "\u001b[0;31m---------------------------------------------------------------------------\u001b[0m",
      "\u001b[0;31mKeyboardInterrupt\u001b[0m                         Traceback (most recent call last)",
      "Cell \u001b[0;32mIn[9], line 11\u001b[0m\n\u001b[1;32m      9\u001b[0m STEPS \u001b[39m+\u001b[39m\u001b[39m=\u001b[39m \u001b[39m1\u001b[39m\n\u001b[1;32m     10\u001b[0m optimizer\u001b[39m.\u001b[39mzero_grad()\n\u001b[0;32m---> 11\u001b[0m tag_scores \u001b[39m=\u001b[39m model(sentence)\n\u001b[1;32m     12\u001b[0m loss \u001b[39m=\u001b[39m criterion(tag_scores, tags)\n\u001b[1;32m     13\u001b[0m loss\u001b[39m.\u001b[39mbackward()\n",
      "File \u001b[0;32m~/anaconda3/envs/torchy/lib/python3.10/site-packages/torch/nn/modules/module.py:1130\u001b[0m, in \u001b[0;36mModule._call_impl\u001b[0;34m(self, *input, **kwargs)\u001b[0m\n\u001b[1;32m   1126\u001b[0m \u001b[39m# If we don't have any hooks, we want to skip the rest of the logic in\u001b[39;00m\n\u001b[1;32m   1127\u001b[0m \u001b[39m# this function, and just call forward.\u001b[39;00m\n\u001b[1;32m   1128\u001b[0m \u001b[39mif\u001b[39;00m \u001b[39mnot\u001b[39;00m (\u001b[39mself\u001b[39m\u001b[39m.\u001b[39m_backward_hooks \u001b[39mor\u001b[39;00m \u001b[39mself\u001b[39m\u001b[39m.\u001b[39m_forward_hooks \u001b[39mor\u001b[39;00m \u001b[39mself\u001b[39m\u001b[39m.\u001b[39m_forward_pre_hooks \u001b[39mor\u001b[39;00m _global_backward_hooks\n\u001b[1;32m   1129\u001b[0m         \u001b[39mor\u001b[39;00m _global_forward_hooks \u001b[39mor\u001b[39;00m _global_forward_pre_hooks):\n\u001b[0;32m-> 1130\u001b[0m     \u001b[39mreturn\u001b[39;00m forward_call(\u001b[39m*\u001b[39;49m\u001b[39minput\u001b[39;49m, \u001b[39m*\u001b[39;49m\u001b[39m*\u001b[39;49mkwargs)\n\u001b[1;32m   1131\u001b[0m \u001b[39m# Do not call functions when jit is used\u001b[39;00m\n\u001b[1;32m   1132\u001b[0m full_backward_hooks, non_full_backward_hooks \u001b[39m=\u001b[39m [], []\n",
      "Cell \u001b[0;32mIn[7], line 11\u001b[0m, in \u001b[0;36mPOS_tagger.forward\u001b[0;34m(self, sentence)\u001b[0m\n\u001b[1;32m      9\u001b[0m \u001b[39mdef\u001b[39;00m \u001b[39mforward\u001b[39m(\u001b[39mself\u001b[39m, sentence):\n\u001b[1;32m     10\u001b[0m     embeds \u001b[39m=\u001b[39m \u001b[39mself\u001b[39m\u001b[39m.\u001b[39mword_embeddings(sentence)\n\u001b[0;32m---> 11\u001b[0m     lstm_out, _ \u001b[39m=\u001b[39m \u001b[39mself\u001b[39;49m\u001b[39m.\u001b[39;49mlstm(embeds\u001b[39m.\u001b[39;49mview(\u001b[39mlen\u001b[39;49m(sentence), \u001b[39m1\u001b[39;49m, \u001b[39m-\u001b[39;49m\u001b[39m1\u001b[39;49m))\n\u001b[1;32m     12\u001b[0m     tag_space \u001b[39m=\u001b[39m \u001b[39mself\u001b[39m\u001b[39m.\u001b[39mhidden2tag(lstm_out\u001b[39m.\u001b[39mview(\u001b[39mlen\u001b[39m(sentence), \u001b[39m-\u001b[39m\u001b[39m1\u001b[39m))\n\u001b[1;32m     13\u001b[0m     tag_scores \u001b[39m=\u001b[39m F\u001b[39m.\u001b[39mlog_softmax(tag_space, dim\u001b[39m=\u001b[39m\u001b[39m1\u001b[39m)\n",
      "File \u001b[0;32m~/anaconda3/envs/torchy/lib/python3.10/site-packages/torch/nn/modules/module.py:1130\u001b[0m, in \u001b[0;36mModule._call_impl\u001b[0;34m(self, *input, **kwargs)\u001b[0m\n\u001b[1;32m   1126\u001b[0m \u001b[39m# If we don't have any hooks, we want to skip the rest of the logic in\u001b[39;00m\n\u001b[1;32m   1127\u001b[0m \u001b[39m# this function, and just call forward.\u001b[39;00m\n\u001b[1;32m   1128\u001b[0m \u001b[39mif\u001b[39;00m \u001b[39mnot\u001b[39;00m (\u001b[39mself\u001b[39m\u001b[39m.\u001b[39m_backward_hooks \u001b[39mor\u001b[39;00m \u001b[39mself\u001b[39m\u001b[39m.\u001b[39m_forward_hooks \u001b[39mor\u001b[39;00m \u001b[39mself\u001b[39m\u001b[39m.\u001b[39m_forward_pre_hooks \u001b[39mor\u001b[39;00m _global_backward_hooks\n\u001b[1;32m   1129\u001b[0m         \u001b[39mor\u001b[39;00m _global_forward_hooks \u001b[39mor\u001b[39;00m _global_forward_pre_hooks):\n\u001b[0;32m-> 1130\u001b[0m     \u001b[39mreturn\u001b[39;00m forward_call(\u001b[39m*\u001b[39;49m\u001b[39minput\u001b[39;49m, \u001b[39m*\u001b[39;49m\u001b[39m*\u001b[39;49mkwargs)\n\u001b[1;32m   1131\u001b[0m \u001b[39m# Do not call functions when jit is used\u001b[39;00m\n\u001b[1;32m   1132\u001b[0m full_backward_hooks, non_full_backward_hooks \u001b[39m=\u001b[39m [], []\n",
      "File \u001b[0;32m~/anaconda3/envs/torchy/lib/python3.10/site-packages/torch/nn/modules/rnn.py:769\u001b[0m, in \u001b[0;36mLSTM.forward\u001b[0;34m(self, input, hx)\u001b[0m\n\u001b[1;32m    767\u001b[0m \u001b[39mself\u001b[39m\u001b[39m.\u001b[39mcheck_forward_args(\u001b[39minput\u001b[39m, hx, batch_sizes)\n\u001b[1;32m    768\u001b[0m \u001b[39mif\u001b[39;00m batch_sizes \u001b[39mis\u001b[39;00m \u001b[39mNone\u001b[39;00m:\n\u001b[0;32m--> 769\u001b[0m     result \u001b[39m=\u001b[39m _VF\u001b[39m.\u001b[39;49mlstm(\u001b[39minput\u001b[39;49m, hx, \u001b[39mself\u001b[39;49m\u001b[39m.\u001b[39;49m_flat_weights, \u001b[39mself\u001b[39;49m\u001b[39m.\u001b[39;49mbias, \u001b[39mself\u001b[39;49m\u001b[39m.\u001b[39;49mnum_layers,\n\u001b[1;32m    770\u001b[0m                       \u001b[39mself\u001b[39;49m\u001b[39m.\u001b[39;49mdropout, \u001b[39mself\u001b[39;49m\u001b[39m.\u001b[39;49mtraining, \u001b[39mself\u001b[39;49m\u001b[39m.\u001b[39;49mbidirectional, \u001b[39mself\u001b[39;49m\u001b[39m.\u001b[39;49mbatch_first)\n\u001b[1;32m    771\u001b[0m \u001b[39melse\u001b[39;00m:\n\u001b[1;32m    772\u001b[0m     result \u001b[39m=\u001b[39m _VF\u001b[39m.\u001b[39mlstm(\u001b[39minput\u001b[39m, batch_sizes, hx, \u001b[39mself\u001b[39m\u001b[39m.\u001b[39m_flat_weights, \u001b[39mself\u001b[39m\u001b[39m.\u001b[39mbias,\n\u001b[1;32m    773\u001b[0m                       \u001b[39mself\u001b[39m\u001b[39m.\u001b[39mnum_layers, \u001b[39mself\u001b[39m\u001b[39m.\u001b[39mdropout, \u001b[39mself\u001b[39m\u001b[39m.\u001b[39mtraining, \u001b[39mself\u001b[39m\u001b[39m.\u001b[39mbidirectional)\n",
      "\u001b[0;31mKeyboardInterrupt\u001b[0m: "
     ]
    }
   ],
   "source": [
    "model.train()\n",
    "EPOCHS = 50 \n",
    "STEPS = 0 \n",
    "best_accuracy = 0\n",
    "RUNNING_LOSS = 0\n",
    "PRINT_EVERY = 1000\n",
    "for epoch in range(EPOCHS):\n",
    "    for sentence, tags in train_loader:\n",
    "        STEPS += 1\n",
    "        optimizer.zero_grad()\n",
    "        tag_scores = model(sentence)\n",
    "        loss = criterion(tag_scores, tags)\n",
    "        loss.backward()\n",
    "        optimizer.step()\n",
    "        RUNNING_LOSS += loss.item()\n",
    "        if STEPS % PRINT_EVERY == 0:\n",
    "            model.eval()\n",
    "            test_loss = 0\n",
    "            accuracy = 0\n",
    "            with torch.no_grad():\n",
    "                for sentence, tags in dev_loader:\n",
    "                    tag_scores = model(sentence)\n",
    "                    test_loss += criterion(tag_scores, tags)\n",
    "                    ps = torch.exp(tag_scores)\n",
    "                    top_p, top_class = ps.topk(1, dim=1)\n",
    "                    equals = top_class == tags.view(*top_class.shape)\n",
    "                    accuracy += torch.mean(equals.type(torch.FloatTensor))\n",
    "            \n",
    "            if accuracy > best_accuracy:\n",
    "                best_accuracy = accuracy\n",
    "                torch.save(model.state_dict(), 'pos_tagger.pth')\n",
    "                print(f\"Epoch {epoch+1}/{EPOCHS} \"\n",
    "                  f\"Train loss: {RUNNING_LOSS/PRINT_EVERY:.3f}.. \"\n",
    "                  f\"Test loss: {test_loss/len(dev_loader):.3f}.. \"\n",
    "                  f\"Test accuracy: {accuracy/len(dev_loader):.3f}\")\n",
    "            \n",
    "            model.train()\n",
    "            RUNNING_LOSS = 0"
   ]
  },
  {
   "cell_type": "code",
   "execution_count": null,
   "metadata": {},
   "outputs": [
    {
     "name": "stdout",
     "output_type": "stream",
     "text": [
      "Test accuracy: 0.971\n"
     ]
    }
   ],
   "source": [
    "model.load_state_dict(torch.load('pos_tagger.pth'))\n",
    "model.eval()\n",
    "accuracy = 0\n",
    "\n",
    "for sentence, tags in test_loader:\n",
    "    tag_scores = model(sentence)\n",
    "    ps = torch.exp(tag_scores)\n",
    "    top_p, top_class = ps.topk(1, dim=1)\n",
    "    equals = top_class == tags.view(*top_class.shape)\n",
    "    accuracy += torch.mean(equals.type(torch.FloatTensor))\n",
    "print(f\"Test accuracy: {accuracy/len(test_loader):.3f}\")"
   ]
  },
  {
   "cell_type": "code",
   "execution_count": null,
   "metadata": {},
   "outputs": [],
   "source": []
  }
 ],
 "metadata": {
  "kernelspec": {
   "display_name": "Python 3 (ipykernel)",
   "language": "python",
   "name": "python3"
  },
  "language_info": {
   "codemirror_mode": {
    "name": "ipython",
    "version": 3
   },
   "file_extension": ".py",
   "mimetype": "text/x-python",
   "name": "python",
   "nbconvert_exporter": "python",
   "pygments_lexer": "ipython3",
   "version": "3.10.9"
  }
 },
 "nbformat": 4,
 "nbformat_minor": 2
}
